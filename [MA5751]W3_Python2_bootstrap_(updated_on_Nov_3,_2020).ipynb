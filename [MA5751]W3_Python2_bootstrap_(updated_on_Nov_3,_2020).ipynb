{
  "nbformat": 4,
  "nbformat_minor": 0,
  "metadata": {
    "colab": {
      "name": "[MA5751]W3-Python2-bootstrap (updated on Nov 3, 2020).ipynb",
      "provenance": [],
      "collapsed_sections": [],
      "include_colab_link": true
    },
    "kernelspec": {
      "name": "python3",
      "display_name": "Python 3"
    }
  },
  "cells": [
    {
      "cell_type": "markdown",
      "metadata": {
        "id": "view-in-github",
        "colab_type": "text"
      },
      "source": [
        "<a href=\"https://colab.research.google.com/github/Klussendorf/AnalyticalReportExample/blob/master/%5BMA5751%5DW3_Python2_bootstrap_(updated_on_Nov_3%2C_2020).ipynb\" target=\"_parent\"><img src=\"https://colab.research.google.com/assets/colab-badge.svg\" alt=\"Open In Colab\"/></a>"
      ]
    },
    {
      "cell_type": "markdown",
      "metadata": {
        "id": "7uwQqMHrRkOA"
      },
      "source": [
        "# The portfolio example in Python\n",
        "\n",
        "In this code, we learn how to generate bootstrap samples for the portfolio example. \n",
        "\n",
        "\n",
        "\n",
        "Recall that $$\\alpha=\\frac{\\sigma_y^2-\\sigma_{xy}}{\\sigma_x^2+\\sigma_y^2-2\\sigma_{xy}}$$ is the optimal fraction of asset $X$.\n",
        "\n",
        "Suppose $\\sigma_x^2=Var(X)=1$, $\\sigma_y^2=Var(Y)=1.25$, and $\\sigma_{xy}=Cov(X,Y)=0.5$.\n",
        "\n",
        "\n",
        "\n",
        "##1. Generating one sample of data\n",
        "\n",
        "\n",
        "\n",
        "At 3':37\" of the first video of Lesson 3.3, Rob shows four panels of scatter plots of 100 simulated returns of $X$ and $Y$. In his simulations, the resulting estimates of $\\alpha$ were 0.576, 0.532, 0.657, and 0.651. In reality, we would be able to observe only one of the four panels. But since this is a simulation experiment, he can keep produing these scatter plots/estimates of $\\alpha$.\n",
        "\n",
        "Let's replicate his simulations in Python. The following code simulates one sample of 100 pairs of returns for investments $X$ and $Y$.\n",
        "Without loss of generality, we let the everage returns of the two assets are zero: $\\mu_x=E(X)=0$ and $\\mu_y=E(Y)=0$.\n"
      ]
    },
    {
      "cell_type": "code",
      "metadata": {
        "id": "731zTPwPRbeS",
        "outputId": "8c90b02b-d924-43a6-ff06-d6e2d593e1ca",
        "colab": {
          "base_uri": "https://localhost:8080/",
          "height": 265
        }
      },
      "source": [
        "import numpy as np\n",
        "import matplotlib.pyplot as plt\n",
        "\n",
        "mu = [0,0]\n",
        "sigma = [[1,0.5],[0.5,1.12]] \n",
        "n = 100\n",
        "\n",
        "x,y = np.random.multivariate_normal(mu,sigma,n).T\n",
        "\n",
        "plt.plot(x,y,'x'); plt.axis('equal'); plt.show()\n",
        "\n"
      ],
      "execution_count": 1,
      "outputs": [
        {
          "output_type": "display_data",
          "data": {
            "image/png": "[encoded data removed]",
            "text/plain": [
              "<Figure size 432x288 with 1 Axes>"
            ]
          },
          "metadata": {
            "tags": [],
            "needs_background": "light"
          }
        }
      ]
    },
    {
      "cell_type": "markdown",
      "metadata": {
        "id": "98y0-3i36s_R"
      },
      "source": [
        "Now let's define the function for $\\hat{\\alpha}$. \n",
        "Recall that $$\\hat{\\alpha}=\\frac{\\hat{\\sigma}_y^2-\\hat{\\sigma}_{xy}}{\\hat{\\sigma}_x^2+\\hat{\\sigma}_y^2-2\\hat{\\sigma}_{xy}}$$ is the estimated optimal fraction of asset $X$ based on data, which can be calculated as follows:\n",
        "\n"
      ]
    },
    {
      "cell_type": "code",
      "metadata": {
        "id": "fWAGy6Uo6pyc",
        "outputId": "4f2417f1-a2ad-46d1-b19d-238976f9ce77",
        "colab": {
          "base_uri": "https://localhost:8080/"
        }
      },
      "source": [
        "def alpha_fun(r):\n",
        "  return (r[1,1] - r[0,1]) / (r[0,0] + r[1,1] - 2*r[0,1])\n",
        "\n",
        "r = np.cov(x, y)\n",
        "alpha_fun(r)\n",
        "\n"
      ],
      "execution_count": null,
      "outputs": [
        {
          "output_type": "execute_result",
          "data": {
            "text/plain": [
              "0.6921529863248377"
            ]
          },
          "metadata": {
            "tags": []
          },
          "execution_count": 2
        }
      ]
    },
    {
      "cell_type": "markdown",
      "metadata": {
        "id": "AjRyvtty61Dz"
      },
      "source": [
        "Note that the true $\\alpha$ can be calculated by applying the ```alpha_fun```\n",
        " function to ```sigma```.\n",
        "\n",
        "*   Note that ```alpha_fun(sigma)```\n",
        " will create an error code. This is because the argument of ```alpha_fun```\n",
        "  has to be a numerical object, but it's current form is a **list**. We can make it work by changing the type of ```sigma``` as follows:\n",
        "\n",
        "\n"
      ]
    },
    {
      "cell_type": "code",
      "metadata": {
        "id": "8obdG17m6xYr",
        "outputId": "a58c7d74-4948-4c8c-854c-f7c6126fde80",
        "colab": {
          "base_uri": "https://localhost:8080/"
        }
      },
      "source": [
        "alpha_true = alpha_fun(np.matrix(sigma))\n",
        "print(alpha_true)"
      ],
      "execution_count": null,
      "outputs": [
        {
          "output_type": "stream",
          "text": [
            "0.5535714285714286\n"
          ],
          "name": "stdout"
        }
      ]
    },
    {
      "cell_type": "markdown",
      "metadata": {
        "id": "4PgDGmgw65AD"
      },
      "source": [
        "\n",
        "##2. Generating simulated data (infeasible in practice)\n",
        "\n",
        "In the same video, at 4':39\", Rob presented two histograms. Let's first generate the one on the left, a histogram of estimates of $\\alpha$ obtained by generating 1,000 simulated data sets from the true population. Note that we cannot obtain this histogram in reality; we can only do this since we are running a simulation study, assuming that we know how the data are generated.\n"
      ]
    },
    {
      "cell_type": "code",
      "metadata": {
        "id": "VEDURcyB64hL",
        "outputId": "4bbae9c5-00a4-4bca-ef60-58347df3e8c9",
        "colab": {
          "base_uri": "https://localhost:8080/",
          "height": 265
        }
      },
      "source": [
        "N = 1000  # the number of replications in simulation\n",
        "\n",
        "avals = []\n",
        "for ii in range(N):\n",
        "  x,y = np.random.multivariate_normal(mu,sigma,n).T\n",
        "  a = alpha_fun(np.cov(x,y))\n",
        "  avals.append(a)\n",
        "\n",
        "plt.hist(avals)\n",
        "plt.axvline(alpha_true, color='r')\n",
        "plt.show()"
      ],
      "execution_count": null,
      "outputs": [
        {
          "output_type": "display_data",
          "data": {
            "image/png": "[encoded data removed]",
            "text/plain": [
              "<Figure size 432x288 with 1 Axes>"
            ]
          },
          "metadata": {
            "tags": [],
            "needs_background": "light"
          }
        }
      ]
    },
    {
      "cell_type": "markdown",
      "metadata": {
        "id": "iyDaniLs7AiL"
      },
      "source": [
        "##3. Generating bootstrapped samples based on one sample data (feasible in practice)\n",
        "\n",
        "In the same video, at 4':39\", Rob presented two histograms. Now let's generate the histogram in center, a histogram of estimates of  𝛼  obtained by generating 1,000 **bootstrap** samples from **a single data set**. "
      ]
    },
    {
      "cell_type": "code",
      "metadata": {
        "id": "3caBJn0C6-GV",
        "outputId": "6bac6395-748a-4d07-9eef-af8cc0d58176",
        "colab": {
          "base_uri": "https://localhost:8080/",
          "height": 266
        }
      },
      "source": [
        "import random\n",
        "random.seed(1234) \n",
        "x,y = np.random.multivariate_normal(mu,sigma,n).T\n",
        "\n",
        "avals_boot = []\n",
        "for ii in range(N):\n",
        "  ind = np.random.choice(n, n)\n",
        "  x_boot = x[ind]\n",
        "  y_boot = y[ind]\n",
        "  a_boot = alpha_fun(np.cov(x_boot,y_boot))\n",
        "  avals_boot.append(a_boot)\n",
        "\n",
        "plt.hist(avals_boot)\n",
        "plt.axvline(alpha_true, color='r')\n",
        "plt.show()\n"
      ],
      "execution_count": null,
      "outputs": [
        {
          "output_type": "display_data",
          "data": {
            "image/png": "[encoded data removed]",
            "text/plain": [
              "<Figure size 432x288 with 1 Axes>"
            ]
          },
          "metadata": {
            "tags": [],
            "needs_background": "light"
          }
        }
      ]
    },
    {
      "cell_type": "markdown",
      "metadata": {
        "id": "L5_S6rIi7F8H"
      },
      "source": [
        "Create the side-by-side boxplot, as in the video."
      ]
    },
    {
      "cell_type": "code",
      "metadata": {
        "id": "Q3FCpvNB7Da1",
        "outputId": "52393fd1-bb33-4106-f1e9-62abca4c5334",
        "colab": {
          "base_uri": "https://localhost:8080/",
          "height": 281
        }
      },
      "source": [
        "import seaborn as sns\n",
        "import pandas as pd\n",
        "\n",
        "df = pd.DataFrame(list(zip(avals,avals_boot)),columns=['True','Bootstrap'])\n",
        "sns.boxplot(data=df)\n",
        "plt.axhline(alpha_true, color='r')\n",
        "plt.title('boxplots for estimates of alpha')\n",
        "plt.show()"
      ],
      "execution_count": null,
      "outputs": [
        {
          "output_type": "display_data",
          "data": {
            "image/png": "[encoded data removed]",
            "text/plain": [
              "<Figure size 432x288 with 1 Axes>"
            ]
          },
          "metadata": {
            "tags": [],
            "needs_background": "light"
          }
        }
      ]
    },
    {
      "cell_type": "markdown",
      "metadata": {
        "id": "GpGq40dT7LPB"
      },
      "source": [
        "##4. A bad example of the bootstrap design\n",
        "\n",
        "Notice that in the previous boostrap, you sampled the indexes once, and used the same index for a pair of $(X,Y)$. Let's suppose you generated bootstrap samples using following code:\n",
        " \n"
      ]
    },
    {
      "cell_type": "code",
      "metadata": {
        "id": "1_1Ip0MW7JTV",
        "outputId": "cb863bcf-6e8d-4690-80d7-8f171ab3c535",
        "colab": {
          "base_uri": "https://localhost:8080/",
          "height": 265
        }
      },
      "source": [
        "random.seed(1234) \n",
        "x,y = np.random.multivariate_normal(mu,sigma,n).T\n",
        "\n",
        "avals_boot2 = []\n",
        "for ii in range(N):\n",
        "  x_boot = x[np.random.choice(n, n)]\n",
        "  y_boot = y[np.random.choice(n, n)]\n",
        "  a_boot = alpha_fun(np.cov(x_boot,y_boot))\n",
        "  avals_boot2.append(a_boot)\n",
        "\n",
        "plt.hist(avals_boot2)\n",
        "plt.axvline(alpha_true, color='r')\n",
        "plt.show()\n"
      ],
      "execution_count": null,
      "outputs": [
        {
          "output_type": "display_data",
          "data": {
            "image/png": "[encoded data removed]",
            "text/plain": [
              "<Figure size 432x288 with 1 Axes>"
            ]
          },
          "metadata": {
            "tags": [],
            "needs_background": "light"
          }
        }
      ]
    },
    {
      "cell_type": "code",
      "metadata": {
        "id": "ikuMawYY7OI2",
        "outputId": "1af33145-0b58-4512-a564-b232f22deef2",
        "colab": {
          "base_uri": "https://localhost:8080/",
          "height": 281
        }
      },
      "source": [
        "df = pd.DataFrame(list(zip(avals,avals_boot,avals_boot2)),columns=['True','Bootstrap-pair','Bootstrap-indiv'])\n",
        "sns.boxplot(data=df)\n",
        "plt.axhline(alpha_true, color='r')\n",
        "plt.title('boxplots for estimates of alpha')\n",
        "plt.show()"
      ],
      "execution_count": null,
      "outputs": [
        {
          "output_type": "display_data",
          "data": {
            "image/png": "[encoded data removed]",
            "text/plain": [
              "<Figure size 432x288 with 1 Axes>"
            ]
          },
          "metadata": {
            "tags": [],
            "needs_background": "light"
          }
        }
      ]
    },
    {
      "cell_type": "markdown",
      "metadata": {
        "id": "S2JV1W4a7T-Q"
      },
      "source": [
        "What is the difference in this new bootstrap?\n",
        "\n",
        "\n",
        "*   Notice that the only difference between the two bootstrap schemes are the following parts: In the first bootstrap code, \n",
        "\n",
        "```\n",
        "ind = np.random.choice(n, n)\n",
        "x_boot = x[ind]\n",
        "y_boot = y[ind]\n",
        "```\n",
        "\n",
        "where as in the second bootstrap code,\n",
        "``` \n",
        "x_boot = x[np.random.choice(n, n)]\n",
        "y_boot = y[np.random.choice(n, n)]\n",
        "```\n",
        "\n",
        "Can you see the difference?\n",
        "\n",
        "* The effect of this difference is quite substantial. The former samples a pair of $(X,Y)$ whereas the latter samples $X$ and $Y$ separately! With the former, the correlation structure is well-preserved in the bootstrap sample, whereas the latter one breaks that tie. Check the sample correlation of $X$ and $Y$ using the two bootstrap schemes.\n",
        "\n",
        "\n",
        "\n",
        "Can you see that the latter bootstrap design is bad?\n",
        "\n",
        "*   It has to be bad because the correlation of $(X,Y)$ in the bootstrap sample is very close to 0.\n",
        "*   But when we compared the boxplots, this may not be apparent. \n",
        "*   If you want to see that the latter bootstrap scheme (individual sampling of $X$ and $Y$, rather than in pairs) is bad, change the ```sigma``` matrix as follows, for instance, and run the entire code again:\n",
        "\n",
        "```\n",
        "sigma = [[1,1],[1,1.12]] \n",
        "```\n",
        "\n"
      ]
    },
    {
      "cell_type": "code",
      "metadata": {
        "id": "gzXY0YQB7QGH",
        "outputId": "ade02b4a-f670-4e61-96cf-df373d3b7278",
        "colab": {
          "base_uri": "https://localhost:8080/",
          "height": 281
        }
      },
      "source": [
        "\n",
        "import numpy as np\n",
        "import matplotlib.pyplot as plt\n",
        "\n",
        "mu = [0,0]\n",
        "sigma = [[1,1],[1,1.12]] \n",
        "n = 100\n",
        "x,y = np.random.multivariate_normal(mu,sigma,n).T\n",
        "alpha_true = alpha_fun(np.matrix(sigma))\n",
        "\n",
        "\n",
        "# Simulated data\n",
        "avals = []\n",
        "for ii in range(N):\n",
        "  x,y = np.random.multivariate_normal(mu,sigma,n).T\n",
        "  a = alpha_fun(np.cov(x,y))\n",
        "  avals.append(a)\n",
        "\n",
        "# paired iid bootstrap\n",
        "random.seed(1234) \n",
        "x,y = np.random.multivariate_normal(mu,sigma,n).T\n",
        "\n",
        "avals_boot = []\n",
        "for ii in range(N):\n",
        "  ind = np.random.choice(n, n)\n",
        "  x_boot = x[ind]\n",
        "  y_boot = y[ind]\n",
        "  a_boot = alpha_fun(np.cov(x_boot,y_boot))\n",
        "  avals_boot.append(a_boot)\n",
        "\n",
        "# individual iid bootstrap\n",
        "avals_boot2 = []\n",
        "for ii in range(N):\n",
        "  x_boot = x[np.random.choice(n, n)]\n",
        "  y_boot = y[np.random.choice(n, n)]\n",
        "  a_boot = alpha_fun(np.cov(x_boot,y_boot))\n",
        "  avals_boot2.append(a_boot)\n",
        "\n",
        "\n",
        "# boxplot\n",
        "df = pd.DataFrame(list(zip(avals,avals_boot,avals_boot2)),columns=['True','Bootstrap-pair','Bootstrap-indiv'])\n",
        "sns.boxplot(data=df)\n",
        "plt.axhline(alpha_true, color='r')\n",
        "plt.title('boxplots for estimates of alpha')\n",
        "plt.show()"
      ],
      "execution_count": null,
      "outputs": [
        {
          "output_type": "display_data",
          "data": {
            "image/png": "[encoded data removed]",
            "text/plain": [
              "<Figure size 432x288 with 1 Axes>"
            ]
          },
          "metadata": {
            "tags": [],
            "needs_background": "light"
          }
        }
      ]
    },
    {
      "cell_type": "code",
      "metadata": {
        "id": "xlsDix-1OpyY",
        "outputId": "5a4b4931-b2c4-497c-d751-3706cdbd169e",
        "colab": {
          "base_uri": "https://localhost:8080/"
        }
      },
      "source": [
        "# [Hint for HW]\n",
        "# For the last question of the homework, you are asked to generate a time dependent sequence of X and Y.\n",
        "# This is one way of generating such X and Y.\n",
        "\n",
        "import numpy as np\n",
        "mu = [0,0]\n",
        "sigma = [[1,0.5],[0.5,1.12]] \n",
        "n = 100\n",
        "phi = 0.8\n",
        "\n",
        "epsilon = np.random.multivariate_normal(mu,sigma,n).T\n",
        "\n",
        "z = []\n",
        "oldz = epsilon[:,0]\n",
        "z.append(oldz)\n",
        "\n",
        "for i in range(1,n):\n",
        "  newz = phi*oldz+ epsilon[:,i]\n",
        "  z.append(newz)\n",
        "  oldz=newz\n",
        "\n",
        "z = np.array(z)\n",
        "x = z[:,0]\n",
        "y = z[:,1]\n",
        "\n",
        "print(np.cov(x,y))"
      ],
      "execution_count": null,
      "outputs": [
        {
          "output_type": "stream",
          "text": [
            "[[1.40988389 1.32906407]\n",
            " [1.32906407 3.55732069]]\n"
          ],
          "name": "stdout"
        }
      ]
    },
    {
      "cell_type": "code",
      "metadata": {
        "id": "MNn0j9wPO2wt"
      },
      "source": [
        ""
      ],
      "execution_count": null,
      "outputs": []
    }
  ]
}