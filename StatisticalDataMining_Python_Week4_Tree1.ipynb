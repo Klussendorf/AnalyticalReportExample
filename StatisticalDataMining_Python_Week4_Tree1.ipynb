{
  "nbformat": 4,
  "nbformat_minor": 0,
  "metadata": {
    "colab": {
      "name": "StatisticalDataMining-Python-Week4-Tree1.ipynb",
      "provenance": [],
      "collapsed_sections": [],
      "include_colab_link": true
    },
    "kernelspec": {
      "name": "python3",
      "display_name": "Python 3"
    }
  },
  "cells": [
    {
      "cell_type": "markdown",
      "metadata": {
        "id": "view-in-github",
        "colab_type": "text"
      },
      "source": [
        "<a href=\"https://colab.research.google.com/github/Klussendorf/AnalyticalReportExample/blob/master/StatisticalDataMining_Python_Week4_Tree1.ipynb\" target=\"_parent\"><img src=\"https://colab.research.google.com/assets/colab-badge.svg\" alt=\"Open In Colab\"/></a>"
      ]
    },
    {
      "cell_type": "code",
      "metadata": {
        "id": "hzgD8dz-hpUC"
      },
      "source": [
        "import numpy as np\n",
        "import pandas as pd \n",
        "import matplotlib.pyplot as plt\n",
        "\n",
        "from sklearn.datasets import load_boston\n",
        "from sklearn.tree import DecisionTreeRegressor\n",
        "from sklearn.model_selection import cross_val_score\n",
        "from sklearn.model_selection import train_test_split\n",
        "from sklearn.metrics import mean_squared_error\n",
        "\n",
        "# Load data\n",
        "# For details for this data, see \n",
        "# https://scikit-learn.org/stable/datasets/index.html#boston-house-prices-dataset\n",
        "boston = load_boston()\n",
        "\n",
        "X = boston.data\n",
        "y = boston.target\n",
        "\n",
        "X_train, X_test, y_train, y_test = train_test_split(X, y, test_size = 0.3, random_state = 1)\n",
        "\n",
        "df_dtr = DecisionTreeRegressor()\n",
        "df_dtr = df_dtr.fit(X_train, y_train)\n",
        "\n",
        "path = df_dtr.cost_complexity_pruning_path(X_train, y_train)\n",
        "ccp_alphas = path.ccp_alphas\n",
        "ccp_alphas = ccp_alphas[:-1] #remove max value of alpha\n",
        "regrs = []\n",
        "for ccp_alpha in ccp_alphas:\n",
        "    regr = DecisionTreeRegressor(random_state=2, ccp_alpha=ccp_alpha)\n",
        "    regr.fit(X_train, y_train)\n",
        "    regrs.append(regr)\n",
        "    \n",
        "# Calculate MSEs\n",
        "# The first two lines are equivalent to \n",
        "# train_scores = [((y_train - regr.predict(X_train))**2).mean() for regr in regrs]\n",
        "# test_scores = [((y_test - regr.predict(X_test))**2).mean() for regr in regrs]\n",
        "train_scores = [mean_squared_error(y_train, regr.predict(X_train)) for regr in regrs]\n",
        "test_scores =  [mean_squared_error(y_test, regr.predict(X_test)) for regr in regrs]\n",
        "cv_scores = [-cross_val_score(regr, X_train, y_train, cv=10, scoring='neg_mean_squared_error').mean() for regr in regrs]\n",
        "\n",
        "# MSE vs alpha plot\n",
        "fig, ax = plt.subplots()\n",
        "ax.set_xlabel(\"alpha\")\n",
        "ax.set_ylabel(\"Mean Squared Error\")\n",
        "ax.set_title(\"MSE vs alpha for training and testing sets, and CV on training set\")\n",
        "ax.plot(ccp_alphas, train_scores, marker = 'o', label = \"train\", drawstyle = \"steps-post\")\n",
        "ax.plot(ccp_alphas, test_scores, marker = 'o', label = \"test\", drawstyle = \"steps-post\")\n",
        "ax.plot(ccp_alphas, cv_scores, marker = 'o', label = \"CV\", drawstyle = \"steps-post\")\n",
        "ax.legend()\n",
        "plt.show()\n"
      ],
      "execution_count": null,
      "outputs": []
    },
    {
      "cell_type": "code",
      "metadata": {
        "id": "L8q52xcqhqB7"
      },
      "source": [
        ""
      ],
      "execution_count": null,
      "outputs": []
    }
  ]
}